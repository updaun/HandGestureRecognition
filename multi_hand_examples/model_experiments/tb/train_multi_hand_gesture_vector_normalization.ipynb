{
 "cells": [
  {
   "cell_type": "markdown",
   "metadata": {},
   "source": [
    "**벡터 정규화**  \n",
    "벡터 정규화란 한 벡터를 벡터의 길이로 나누어서 그 벡터의 길이를 1로 만드는 것입니다. 이렇게 길이가 1이 된 벡터를 단위 벡터라고 부릅니다. 주로 키보드로 조작하는 게임에 자주 사용하는 정규화 방식으로 (1,0) 벡터와 (0,1) 벡터가 합쳐졌을 때 (1,1) 벡터의 길이가 루트2로 1보다 더 크기 때문에 이를 정규화를 통해 이 길이를 1로 맞춰주어야 하기 때문입니다. 속력과 방향을 정의되는 벡터에서 순수하게 방향만을 남겨서 사용하고자 할 때 위와 같은 벡터 정규화 개념을 사용합니다.\n",
    "\n",
    "벡터 정규화를 하는 방법은 각 성분(x, y, z)에 벡터의 길이를 나누는 것입니다."
   ]
  },
  {
   "cell_type": "code",
   "execution_count": 1,
   "metadata": {},
   "outputs": [
    {
     "name": "stdout",
     "output_type": "stream",
     "text": [
      "(711, 10, 111)\n",
      "(718, 10, 111)\n",
      "(1072, 10, 111)\n",
      "(1139, 10, 111)\n"
     ]
    }
   ],
   "source": [
    "import numpy as np\n",
    "\n",
    "data_yes = np.load('vector_normalization/train/seq_yes.npy')\n",
    "data_no = np.load('vector_normalization/train/seq_no.npy')\n",
    "data_like = np.load('vector_normalization/train/seq_like.npy')\n",
    "data_heart = np.load('vector_normalization/train/seq_heart.npy')\n",
    "\n",
    "print(data_yes.shape)\n",
    "print(data_no.shape)\n",
    "print(data_like.shape)\n",
    "print(data_heart.shape)"
   ]
  },
  {
   "cell_type": "code",
   "execution_count": 2,
   "metadata": {},
   "outputs": [],
   "source": [
    "test_yes = np.load('vector_normalization/new_test/seq_yes.npy')\n",
    "test_no = np.load('vector_normalization/new_test/seq_no.npy')\n",
    "test_like = np.load('vector_normalization/new_test/seq_like.npy')\n",
    "test_heart = np.load('vector_normalization/new_test/seq_heart.npy')"
   ]
  },
  {
   "cell_type": "code",
   "execution_count": 3,
   "metadata": {
    "id": "yj5RmQfk2kBr",
    "outputId": "5df05e1b-f608-4d0b-ab5b-faf039a13b07",
    "scrolled": true
   },
   "outputs": [
    {
     "data": {
      "text/plain": [
       "((3640, 10, 111), (3933, 10, 111))"
      ]
     },
     "execution_count": 3,
     "metadata": {},
     "output_type": "execute_result"
    }
   ],
   "source": [
    "actions = ['yes', 'no', 'like', 'heart']\n",
    "\n",
    "data = np.concatenate([data_yes ,data_no, data_like, data_heart], axis=0)\n",
    "data_te = np.concatenate([test_yes ,test_no, test_like, test_heart], axis=0)\n",
    "\n",
    "data.shape, data_te.shape"
   ]
  },
  {
   "cell_type": "markdown",
   "metadata": {
    "id": "BX0KTjeL2kBt"
   },
   "source": [
    "#### 데이터 x, y 나누기"
   ]
  },
  {
   "cell_type": "code",
   "execution_count": 4,
   "metadata": {
    "id": "w0ls_ie02kBw",
    "outputId": "34adde1d-5a76-4f6a-b47d-33c09a36edbe"
   },
   "outputs": [
    {
     "name": "stdout",
     "output_type": "stream",
     "text": [
      "(3640, 10, 110)\n",
      "(3640,)\n",
      "\n",
      "(3933, 10, 110)\n",
      "(3933,)\n"
     ]
    }
   ],
   "source": [
    "x_data = data[:, :, :-1]\n",
    "labels = data[:, 0, -1]\n",
    "\n",
    "x_data_te = data_te[:, :, :-1]\n",
    "labels_te = data_te[:, 0, -1]\n",
    "\n",
    "print(x_data.shape)\n",
    "print(labels.shape)\n",
    "print()\n",
    "print(x_data_te.shape)\n",
    "print(labels_te.shape)"
   ]
  },
  {
   "cell_type": "code",
   "execution_count": 5,
   "metadata": {
    "id": "J0Sn2fkipSMN",
    "outputId": "73c64cad-de05-49ee-8444-835c3703dbd7"
   },
   "outputs": [
    {
     "data": {
      "text/plain": [
       "(array([0., 1., 2., 3.]), array([0., 1., 2., 3.]))"
      ]
     },
     "execution_count": 5,
     "metadata": {},
     "output_type": "execute_result"
    }
   ],
   "source": [
    "np.unique(labels), np.unique(labels_te)"
   ]
  },
  {
   "cell_type": "code",
   "execution_count": 6,
   "metadata": {
    "id": "AvyeJuOZ2kBy",
    "outputId": "fb265eed-f81f-4735-95f8-3e341ce0ea83"
   },
   "outputs": [
    {
     "data": {
      "text/plain": [
       "((3640, 4), (3933, 4))"
      ]
     },
     "execution_count": 6,
     "metadata": {},
     "output_type": "execute_result"
    }
   ],
   "source": [
    "from tensorflow.keras.utils import to_categorical\n",
    "\n",
    "y_data = to_categorical(labels, num_classes=len(actions))\n",
    "y_data_te = to_categorical(labels_te, num_classes=len(actions))\n",
    "\n",
    "y_data.shape, y_data_te.shape"
   ]
  },
  {
   "cell_type": "markdown",
   "metadata": {
    "id": "E51SRxK_2kB7"
   },
   "source": [
    "#### X,y train_test_split"
   ]
  },
  {
   "cell_type": "code",
   "execution_count": 7,
   "metadata": {
    "id": "piB6zMd82kCA",
    "outputId": "7055903d-b0e0-42c2-a491-d7c8faf525f0",
    "scrolled": true
   },
   "outputs": [
    {
     "name": "stdout",
     "output_type": "stream",
     "text": [
      "(2730, 10, 110) (2730, 4)\n",
      "(910, 10, 110) (910, 4)\n",
      "(3933, 10, 110) (3933, 4)\n"
     ]
    }
   ],
   "source": [
    "from sklearn.model_selection import train_test_split\n",
    "np.random.seed(1)\n",
    "\n",
    "x_data = x_data.astype(np.float32)\n",
    "y_data = y_data.astype(np.float32)\n",
    "\n",
    "x_data_te = x_data_te.astype(np.float32)\n",
    "y_data_te = y_data_te.astype(np.float32)\n",
    "\n",
    "x_train, x_val, y_train, y_val = train_test_split(x_data, y_data, test_size=0.25, random_state=42)\n",
    "\n",
    "print(x_train.shape, y_train.shape)\n",
    "print(x_val.shape, y_val.shape)\n",
    "print(x_data_te.shape, y_data_te.shape)"
   ]
  },
  {
   "cell_type": "markdown",
   "metadata": {
    "id": "nh5A7V9hpSMW"
   },
   "source": [
    "#### 판단 척도\n",
    "\n",
    "판단 척도는 **F1 score**를 사용하였습니다. **F1 score**는 정밀도와 재현율을 결합한 지표로 정밀도와 재현율이 어느 한 쪽으로 치우치지 않을 때 높은 값을 나타냅니다."
   ]
  },
  {
   "cell_type": "code",
   "execution_count": 8,
   "metadata": {
    "id": "-3GotKcppSMX"
   },
   "outputs": [],
   "source": [
    "import tensorflow as tf\n",
    "def metric_F1score(y_true,y_pred): \n",
    "    TP=tf.reduce_sum(y_true*tf.round(y_pred))\n",
    "    TN=tf.reduce_sum((1-y_true)*(1-tf.round(y_pred)))\n",
    "    FP=tf.reduce_sum((1-y_true)*tf.round(y_pred))\n",
    "    FN=tf.reduce_sum(y_true*(1-tf.round(y_pred)))\n",
    "    precision=TP/(TP+FP)\n",
    "    recall=TP/(TP+FN)\n",
    "    F1score=2*precision*recall/(precision+recall)\n",
    "    return F1score"
   ]
  },
  {
   "cell_type": "markdown",
   "metadata": {
    "id": "pM3_ekVq2kCC"
   },
   "source": [
    "####  Modeling"
   ]
  },
  {
   "cell_type": "code",
   "execution_count": 9,
   "metadata": {
    "id": "BXDy5Yce2kCE",
    "outputId": "9651f411-da51-40c5-db68-8f01904152d9",
    "scrolled": false
   },
   "outputs": [
    {
     "name": "stdout",
     "output_type": "stream",
     "text": [
      "WARNING:tensorflow:Layer lstm will not use cuDNN kernels since it doesn't meet the criteria. It will use a generic GPU kernel as fallback when running on GPU.\n",
      "Model: \"sequential\"\n",
      "_________________________________________________________________\n",
      " Layer (type)                Output Shape              Param #   \n",
      "=================================================================\n",
      " lstm (LSTM)                 (None, 64)                44800     \n",
      "                                                                 \n",
      " dropout (Dropout)           (None, 64)                0         \n",
      "                                                                 \n",
      " dense (Dense)               (None, 32)                2080      \n",
      "                                                                 \n",
      " dropout_1 (Dropout)         (None, 32)                0         \n",
      "                                                                 \n",
      " dense_1 (Dense)             (None, 4)                 132       \n",
      "                                                                 \n",
      "=================================================================\n",
      "Total params: 47,012\n",
      "Trainable params: 47,012\n",
      "Non-trainable params: 0\n",
      "_________________________________________________________________\n"
     ]
    }
   ],
   "source": [
    "from tensorflow.keras.models import Sequential\n",
    "from tensorflow.keras.layers import LSTM, Dense, Dropout\n",
    "\n",
    "model = Sequential([\n",
    "    LSTM(64, activation='relu', input_shape=x_train.shape[1:3]),\n",
    "    Dropout(0.2),\n",
    "    Dense(32, activation='relu'),\n",
    "    Dropout(0.2),\n",
    "    Dense(len(actions), activation='softmax')\n",
    "])\n",
    "\n",
    "model.compile(optimizer='adam', loss='categorical_crossentropy', metrics=[metric_F1score])\n",
    "model.summary()"
   ]
  },
  {
   "cell_type": "markdown",
   "metadata": {
    "id": "FfZl6Yri2kCF"
   },
   "source": [
    "#### Training"
   ]
  },
  {
   "cell_type": "code",
   "execution_count": 10,
   "metadata": {
    "id": "oU2EUK-62kCF",
    "outputId": "0ff6b74b-5831-4736-efea-d54844a4a5f7",
    "scrolled": true
   },
   "outputs": [
    {
     "name": "stdout",
     "output_type": "stream",
     "text": [
      "Epoch 1/50\n",
      "85/86 [============================>.] - ETA: 0s - loss: 10.4170 - metric_F1score: 0.5072\n",
      "Epoch 00001: val_metric_F1score improved from inf to 0.84709, saving model to models\\vector_normalization_classifier.h5\n",
      "86/86 [==============================] - 7s 26ms/step - loss: 10.3887 - metric_F1score: 0.5111 - val_loss: 0.7562 - val_metric_F1score: 0.8471 - lr: 0.0010\n",
      "Epoch 2/50\n",
      "85/86 [============================>.] - ETA: 0s - loss: 1.6364 - metric_F1score: 0.7818\n",
      "Epoch 00002: val_metric_F1score did not improve from 0.84709\n",
      "86/86 [==============================] - 2s 23ms/step - loss: 1.6329 - metric_F1score: 0.7820 - val_loss: 0.1721 - val_metric_F1score: 0.9545 - lr: 0.0010\n",
      "Epoch 3/50\n",
      "85/86 [============================>.] - ETA: 0s - loss: 0.6754 - metric_F1score: 0.8877\n",
      "Epoch 00003: val_metric_F1score did not improve from 0.84709\n",
      "86/86 [==============================] - 2s 23ms/step - loss: 0.6729 - metric_F1score: 0.8890 - val_loss: 0.1012 - val_metric_F1score: 0.9816 - lr: 0.0010\n",
      "Epoch 4/50\n",
      "86/86 [==============================] - ETA: 0s - loss: 0.3523 - metric_F1score: 0.9290\n",
      "Epoch 00004: val_metric_F1score did not improve from 0.84709\n",
      "86/86 [==============================] - 2s 23ms/step - loss: 0.3523 - metric_F1score: 0.9290 - val_loss: 0.0603 - val_metric_F1score: 0.9892 - lr: 0.0010\n",
      "Epoch 5/50\n",
      "84/86 [============================>.] - ETA: 0s - loss: 0.2551 - metric_F1score: 0.9490\n",
      "Epoch 00005: val_metric_F1score did not improve from 0.84709\n",
      "86/86 [==============================] - 2s 23ms/step - loss: 0.2672 - metric_F1score: 0.9479 - val_loss: 0.0261 - val_metric_F1score: 0.9941 - lr: 0.0010\n",
      "Epoch 6/50\n",
      "85/86 [============================>.] - ETA: 0s - loss: 0.1172 - metric_F1score: 0.9672\n",
      "Epoch 00006: val_metric_F1score did not improve from 0.84709\n",
      "86/86 [==============================] - 2s 23ms/step - loss: 0.1173 - metric_F1score: 0.9665 - val_loss: 0.0182 - val_metric_F1score: 0.9951 - lr: 0.0010\n",
      "Epoch 7/50\n",
      "85/86 [============================>.] - ETA: 0s - loss: 0.0970 - metric_F1score: 0.9726\n",
      "Epoch 00007: val_metric_F1score did not improve from 0.84709\n",
      "86/86 [==============================] - 2s 23ms/step - loss: 0.0966 - metric_F1score: 0.9729 - val_loss: 0.0080 - val_metric_F1score: 0.9978 - lr: 0.0010\n",
      "Epoch 8/50\n",
      "86/86 [==============================] - ETA: 0s - loss: 0.0893 - metric_F1score: 0.9769\n",
      "Epoch 00008: val_metric_F1score did not improve from 0.84709\n",
      "86/86 [==============================] - 2s 24ms/step - loss: 0.0893 - metric_F1score: 0.9769 - val_loss: 0.0179 - val_metric_F1score: 0.9957 - lr: 0.0010\n",
      "Epoch 9/50\n",
      "84/86 [============================>.] - ETA: 0s - loss: 0.0898 - metric_F1score: 0.9761\n",
      "Epoch 00009: val_metric_F1score did not improve from 0.84709\n",
      "86/86 [==============================] - 2s 24ms/step - loss: 0.0887 - metric_F1score: 0.9763 - val_loss: 0.0075 - val_metric_F1score: 0.9978 - lr: 0.0010\n",
      "Epoch 10/50\n",
      "84/86 [============================>.] - ETA: 0s - loss: 0.1054 - metric_F1score: 0.9825\n",
      "Epoch 00010: val_metric_F1score did not improve from 0.84709\n",
      "86/86 [==============================] - 2s 25ms/step - loss: 0.1046 - metric_F1score: 0.9825 - val_loss: 0.0054 - val_metric_F1score: 0.9978 - lr: 0.0010\n",
      "Epoch 11/50\n",
      "86/86 [==============================] - ETA: 0s - loss: 0.1150 - metric_F1score: 0.9816\n",
      "Epoch 00011: val_metric_F1score did not improve from 0.84709\n",
      "86/86 [==============================] - 2s 24ms/step - loss: 0.1150 - metric_F1score: 0.9816 - val_loss: 0.0107 - val_metric_F1score: 0.9968 - lr: 0.0010\n",
      "Epoch 12/50\n",
      "85/86 [============================>.] - ETA: 0s - loss: 0.0639 - metric_F1score: 0.9828\n",
      "Epoch 00012: val_metric_F1score did not improve from 0.84709\n",
      "86/86 [==============================] - 2s 24ms/step - loss: 0.0636 - metric_F1score: 0.9830 - val_loss: 0.0072 - val_metric_F1score: 0.9968 - lr: 0.0010\n",
      "Epoch 13/50\n",
      "86/86 [==============================] - ETA: 0s - loss: 0.0519 - metric_F1score: 0.9884\n",
      "Epoch 00013: val_metric_F1score did not improve from 0.84709\n",
      "86/86 [==============================] - 2s 25ms/step - loss: 0.0519 - metric_F1score: 0.9884 - val_loss: 0.0083 - val_metric_F1score: 0.9968 - lr: 0.0010\n",
      "Epoch 14/50\n",
      "84/86 [============================>.] - ETA: 0s - loss: 0.0360 - metric_F1score: 0.9914\n",
      "Epoch 00014: val_metric_F1score did not improve from 0.84709\n",
      "86/86 [==============================] - 2s 26ms/step - loss: 0.0354 - metric_F1score: 0.9916 - val_loss: 0.0054 - val_metric_F1score: 0.9973 - lr: 0.0010\n",
      "Epoch 15/50\n",
      "85/86 [============================>.] - ETA: 0s - loss: 0.0252 - metric_F1score: 0.9934\n",
      "Epoch 00015: val_metric_F1score did not improve from 0.84709\n",
      "86/86 [==============================] - 2s 23ms/step - loss: 0.0251 - metric_F1score: 0.9934 - val_loss: 0.0041 - val_metric_F1score: 0.9978 - lr: 0.0010\n",
      "Epoch 16/50\n",
      "84/86 [============================>.] - ETA: 0s - loss: 0.0282 - metric_F1score: 0.9922\n",
      "Epoch 00016: val_metric_F1score did not improve from 0.84709\n",
      "86/86 [==============================] - 2s 23ms/step - loss: 0.0278 - metric_F1score: 0.9924 - val_loss: 0.0021 - val_metric_F1score: 0.9989 - lr: 0.0010\n",
      "Epoch 17/50\n",
      "85/86 [============================>.] - ETA: 0s - loss: 0.0147 - metric_F1score: 0.9952\n",
      "Epoch 00017: val_metric_F1score did not improve from 0.84709\n",
      "86/86 [==============================] - 2s 23ms/step - loss: 0.0155 - metric_F1score: 0.9941 - val_loss: 0.0011 - val_metric_F1score: 0.9995 - lr: 0.0010\n",
      "Epoch 18/50\n",
      "84/86 [============================>.] - ETA: 0s - loss: 0.0380 - metric_F1score: 0.9914\n",
      "Epoch 00018: val_metric_F1score did not improve from 0.84709\n",
      "86/86 [==============================] - 2s 23ms/step - loss: 0.0375 - metric_F1score: 0.9916 - val_loss: 1.2186e-04 - val_metric_F1score: 1.0000 - lr: 0.0010\n",
      "Epoch 19/50\n",
      "84/86 [============================>.] - ETA: 0s - loss: 0.0239 - metric_F1score: 0.9946\n",
      "Epoch 00019: val_metric_F1score did not improve from 0.84709\n",
      "86/86 [==============================] - 2s 23ms/step - loss: 0.0238 - metric_F1score: 0.9944 - val_loss: 5.8015e-04 - val_metric_F1score: 1.0000 - lr: 0.0010\n",
      "Epoch 20/50\n",
      "85/86 [============================>.] - ETA: 0s - loss: 0.0169 - metric_F1score: 0.9950\n",
      "Epoch 00020: val_metric_F1score did not improve from 0.84709\n",
      "86/86 [==============================] - 2s 23ms/step - loss: 0.0169 - metric_F1score: 0.9951 - val_loss: 2.3904e-06 - val_metric_F1score: 1.0000 - lr: 0.0010\n",
      "Epoch 21/50\n",
      "85/86 [============================>.] - ETA: 0s - loss: 0.0246 - metric_F1score: 0.9961\n",
      "Epoch 00021: val_metric_F1score did not improve from 0.84709\n",
      "86/86 [==============================] - 2s 23ms/step - loss: 0.0245 - metric_F1score: 0.9962 - val_loss: 7.4347e-04 - val_metric_F1score: 1.0000 - lr: 0.0010\n",
      "Epoch 22/50\n",
      "85/86 [============================>.] - ETA: 0s - loss: 0.0192 - metric_F1score: 0.9971\n",
      "Epoch 00022: val_metric_F1score did not improve from 0.84709\n",
      "86/86 [==============================] - 2s 23ms/step - loss: 0.0191 - metric_F1score: 0.9971 - val_loss: 1.5982e-08 - val_metric_F1score: 1.0000 - lr: 0.0010\n",
      "Epoch 23/50\n",
      "85/86 [============================>.] - ETA: 0s - loss: 0.0137 - metric_F1score: 0.9960\n",
      "Epoch 00023: val_metric_F1score did not improve from 0.84709\n",
      "86/86 [==============================] - 2s 23ms/step - loss: 0.0137 - metric_F1score: 0.9960 - val_loss: 1.7030e-08 - val_metric_F1score: 1.0000 - lr: 0.0010\n",
      "Epoch 24/50\n",
      "85/86 [============================>.] - ETA: 0s - loss: 0.0186 - metric_F1score: 0.9971\n",
      "Epoch 00024: val_metric_F1score did not improve from 0.84709\n",
      "86/86 [==============================] - 2s 23ms/step - loss: 0.0185 - metric_F1score: 0.9971 - val_loss: 0.0838 - val_metric_F1score: 0.9957 - lr: 0.0010\n",
      "Epoch 25/50\n",
      "86/86 [==============================] - ETA: 0s - loss: 0.0223 - metric_F1score: 0.9962\n",
      "Epoch 00025: val_metric_F1score did not improve from 0.84709\n",
      "86/86 [==============================] - 2s 24ms/step - loss: 0.0223 - metric_F1score: 0.9962 - val_loss: 2.4115e-07 - val_metric_F1score: 1.0000 - lr: 0.0010\n",
      "Epoch 26/50\n",
      "84/86 [============================>.] - ETA: 0s - loss: 0.0226 - metric_F1score: 0.9970\n",
      "Epoch 00026: val_metric_F1score did not improve from 0.84709\n",
      "86/86 [==============================] - 2s 23ms/step - loss: 0.0222 - metric_F1score: 0.9971 - val_loss: 9.5405e-07 - val_metric_F1score: 1.0000 - lr: 0.0010\n"
     ]
    },
    {
     "name": "stdout",
     "output_type": "stream",
     "text": [
      "Epoch 27/50\n",
      "86/86 [==============================] - ETA: 0s - loss: 0.0361 - metric_F1score: 0.9944\n",
      "Epoch 00027: val_metric_F1score did not improve from 0.84709\n",
      "86/86 [==============================] - 2s 23ms/step - loss: 0.0361 - metric_F1score: 0.9944 - val_loss: 0.0200 - val_metric_F1score: 0.9989 - lr: 0.0010\n",
      "Epoch 28/50\n",
      "85/86 [============================>.] - ETA: 0s - loss: 0.1193 - metric_F1score: 0.9899\n",
      "Epoch 00028: val_metric_F1score did not improve from 0.84709\n",
      "86/86 [==============================] - 2s 23ms/step - loss: 0.1188 - metric_F1score: 0.9900 - val_loss: 0.0063 - val_metric_F1score: 0.9978 - lr: 0.0010\n",
      "Epoch 29/50\n",
      "84/86 [============================>.] - ETA: 0s - loss: 0.0231 - metric_F1score: 0.9952\n",
      "Epoch 00029: val_metric_F1score did not improve from 0.84709\n",
      "86/86 [==============================] - 2s 23ms/step - loss: 0.0228 - metric_F1score: 0.9953 - val_loss: 0.0011 - val_metric_F1score: 0.9989 - lr: 0.0010\n",
      "Epoch 30/50\n",
      "85/86 [============================>.] - ETA: 0s - loss: 0.0047 - metric_F1score: 0.9982\n",
      "Epoch 00030: val_metric_F1score did not improve from 0.84709\n",
      "86/86 [==============================] - 2s 23ms/step - loss: 0.0047 - metric_F1score: 0.9982 - val_loss: 0.0012 - val_metric_F1score: 0.9989 - lr: 0.0010\n",
      "Epoch 31/50\n",
      "85/86 [============================>.] - ETA: 0s - loss: 0.0044 - metric_F1score: 0.9987\n",
      "Epoch 00031: val_metric_F1score did not improve from 0.84709\n",
      "86/86 [==============================] - 2s 23ms/step - loss: 0.0044 - metric_F1score: 0.9987 - val_loss: 0.0013 - val_metric_F1score: 0.9989 - lr: 0.0010\n",
      "Epoch 32/50\n",
      "85/86 [============================>.] - ETA: 0s - loss: 0.0021 - metric_F1score: 0.9993\n",
      "Epoch 00032: val_metric_F1score did not improve from 0.84709\n",
      "86/86 [==============================] - 2s 23ms/step - loss: 0.0021 - metric_F1score: 0.9993 - val_loss: 2.0315e-04 - val_metric_F1score: 1.0000 - lr: 0.0010\n",
      "Epoch 33/50\n",
      "84/86 [============================>.] - ETA: 0s - loss: 0.0131 - metric_F1score: 0.9974\n",
      "Epoch 00033: val_metric_F1score did not improve from 0.84709\n",
      "86/86 [==============================] - 2s 23ms/step - loss: 0.0129 - metric_F1score: 0.9975 - val_loss: 1.2004e-04 - val_metric_F1score: 1.0000 - lr: 0.0010\n",
      "Epoch 34/50\n",
      "85/86 [============================>.] - ETA: 0s - loss: 0.0415 - metric_F1score: 0.9952\n",
      "Epoch 00034: val_metric_F1score did not improve from 0.84709\n",
      "86/86 [==============================] - 2s 25ms/step - loss: 0.0414 - metric_F1score: 0.9953 - val_loss: 8.3976e-05 - val_metric_F1score: 1.0000 - lr: 0.0010\n",
      "Epoch 35/50\n",
      "85/86 [============================>.] - ETA: 0s - loss: 0.0378 - metric_F1score: 0.9943\n",
      "Epoch 00035: val_metric_F1score did not improve from 0.84709\n",
      "86/86 [==============================] - 2s 24ms/step - loss: 0.0377 - metric_F1score: 0.9944 - val_loss: 0.0874 - val_metric_F1score: 0.9978 - lr: 0.0010\n",
      "Epoch 36/50\n",
      "85/86 [============================>.] - ETA: 0s - loss: 0.0354 - metric_F1score: 0.9915\n",
      "Epoch 00036: val_metric_F1score did not improve from 0.84709\n",
      "86/86 [==============================] - 2s 24ms/step - loss: 0.0353 - metric_F1score: 0.9916 - val_loss: 2.6593e-08 - val_metric_F1score: 1.0000 - lr: 0.0010\n",
      "Epoch 37/50\n",
      "85/86 [============================>.] - ETA: 0s - loss: 0.0120 - metric_F1score: 0.9967\n",
      "Epoch 00037: val_metric_F1score did not improve from 0.84709\n",
      "86/86 [==============================] - 3s 29ms/step - loss: 0.0120 - metric_F1score: 0.9967 - val_loss: 5.5846e-05 - val_metric_F1score: 1.0000 - lr: 0.0010\n",
      "Epoch 38/50\n",
      "85/86 [============================>.] - ETA: 0s - loss: 0.0119 - metric_F1score: 0.9963\n",
      "Epoch 00038: val_metric_F1score did not improve from 0.84709\n",
      "86/86 [==============================] - 3s 35ms/step - loss: 0.0118 - metric_F1score: 0.9964 - val_loss: 1.9519e-08 - val_metric_F1score: 1.0000 - lr: 0.0010\n",
      "Epoch 39/50\n",
      "85/86 [============================>.] - ETA: 0s - loss: 0.0090 - metric_F1score: 0.9980\n",
      "Epoch 00039: val_metric_F1score did not improve from 0.84709\n",
      "86/86 [==============================] - 3s 30ms/step - loss: 0.0089 - metric_F1score: 0.9980 - val_loss: 2.8034e-08 - val_metric_F1score: 1.0000 - lr: 0.0010\n",
      "Epoch 40/50\n",
      "85/86 [============================>.] - ETA: 0s - loss: 0.0044 - metric_F1score: 0.9993  \n",
      "Epoch 00040: val_metric_F1score did not improve from 0.84709\n",
      "86/86 [==============================] - 3s 30ms/step - loss: 0.0044 - metric_F1score: 0.9993 - val_loss: 9.5102e-08 - val_metric_F1score: 1.0000 - lr: 0.0010\n",
      "Epoch 41/50\n",
      "84/86 [============================>.] - ETA: 0s - loss: 2.5865e-04 - metric_F1score: 1.0000\n",
      "Epoch 00041: val_metric_F1score did not improve from 0.84709\n",
      "86/86 [==============================] - 3s 30ms/step - loss: 2.9157e-04 - metric_F1score: 1.0000 - val_loss: 1.0218e-08 - val_metric_F1score: 1.0000 - lr: 0.0010\n",
      "Epoch 42/50\n",
      "85/86 [============================>.] - ETA: 0s - loss: 0.0080 - metric_F1score: 0.9983\n",
      "Epoch 00042: val_metric_F1score did not improve from 0.84709\n",
      "86/86 [==============================] - 3s 30ms/step - loss: 0.0079 - metric_F1score: 0.9984 - val_loss: 7.2200e-06 - val_metric_F1score: 1.0000 - lr: 0.0010\n",
      "Epoch 43/50\n",
      "85/86 [============================>.] - ETA: 0s - loss: 0.0047 - metric_F1score: 0.9985\n",
      "Epoch 00043: val_metric_F1score did not improve from 0.84709\n",
      "86/86 [==============================] - 3s 31ms/step - loss: 0.0047 - metric_F1score: 0.9985 - val_loss: 1.4006e-05 - val_metric_F1score: 1.0000 - lr: 0.0010\n",
      "Epoch 44/50\n",
      "85/86 [============================>.] - ETA: 0s - loss: 0.0045 - metric_F1score: 0.9980\n",
      "Epoch 00044: val_metric_F1score did not improve from 0.84709\n",
      "86/86 [==============================] - 3s 31ms/step - loss: 0.0045 - metric_F1score: 0.9980 - val_loss: 1.6197e-06 - val_metric_F1score: 1.0000 - lr: 0.0010\n",
      "Epoch 45/50\n",
      "85/86 [============================>.] - ETA: 0s - loss: 0.0030 - metric_F1score: 0.9994\n",
      "Epoch 00045: val_metric_F1score did not improve from 0.84709\n",
      "86/86 [==============================] - 3s 31ms/step - loss: 0.0030 - metric_F1score: 0.9995 - val_loss: 1.3016e-04 - val_metric_F1score: 1.0000 - lr: 0.0010\n",
      "Epoch 46/50\n",
      "86/86 [==============================] - ETA: 0s - loss: 0.0033 - metric_F1score: 0.9993\n",
      "Epoch 00046: val_metric_F1score did not improve from 0.84709\n",
      "86/86 [==============================] - 3s 32ms/step - loss: 0.0033 - metric_F1score: 0.9993 - val_loss: 1.2326e-07 - val_metric_F1score: 1.0000 - lr: 0.0010\n",
      "Epoch 47/50\n",
      "85/86 [============================>.] - ETA: 0s - loss: 0.0053 - metric_F1score: 0.9993\n",
      "Epoch 00047: val_metric_F1score did not improve from 0.84709\n",
      "86/86 [==============================] - 3s 37ms/step - loss: 0.0053 - metric_F1score: 0.9993 - val_loss: 2.3056e-08 - val_metric_F1score: 1.0000 - lr: 0.0010\n",
      "Epoch 48/50\n",
      "85/86 [============================>.] - ETA: 0s - loss: 0.0259 - metric_F1score: 0.9976\n",
      "Epoch 00048: val_metric_F1score did not improve from 0.84709\n",
      "86/86 [==============================] - 3s 37ms/step - loss: 0.0258 - metric_F1score: 0.9976 - val_loss: 0.0054 - val_metric_F1score: 0.9989 - lr: 0.0010\n",
      "Epoch 49/50\n",
      "85/86 [============================>.] - ETA: 0s - loss: 0.0069 - metric_F1score: 0.9978\n",
      "Epoch 00049: val_metric_F1score did not improve from 0.84709\n",
      "86/86 [==============================] - 3s 31ms/step - loss: 0.0069 - metric_F1score: 0.9978 - val_loss: 1.3866e-06 - val_metric_F1score: 1.0000 - lr: 0.0010\n",
      "Epoch 50/50\n",
      "85/86 [============================>.] - ETA: 0s - loss: 0.0016 - metric_F1score: 0.9996\n",
      "Epoch 00050: val_metric_F1score did not improve from 0.84709\n",
      "86/86 [==============================] - 3s 33ms/step - loss: 0.0016 - metric_F1score: 0.9996 - val_loss: 3.8775e-08 - val_metric_F1score: 1.0000 - lr: 0.0010\n"
     ]
    }
   ],
   "source": [
    "from tensorflow.keras.callbacks import ModelCheckpoint, ReduceLROnPlateau\n",
    "\n",
    "history = model.fit(\n",
    "    x_train,\n",
    "    y_train,\n",
    "    validation_data=(x_val, y_val),\n",
    "    epochs=50,\n",
    "    callbacks=[\n",
    "        ModelCheckpoint('models/vector_normalization_classifier.h5', monitor='val_metric_F1score', verbose=1, save_best_only=True, mode='auto'),\n",
    "        ReduceLROnPlateau(monitor='val_metric_F1score', factor=0.5, patience=50, verbose=1, mode='auto')\n",
    "    ]\n",
    ")"
   ]
  },
  {
   "cell_type": "code",
   "execution_count": 11,
   "metadata": {
    "id": "ryE9NZb02kCJ",
    "outputId": "9d2b1407-5964-426f-c98f-2dca01c9ccd8"
   },
   "outputs": [
    {
     "data": {
      "image/png": "[encoded data removed]",
      "text/plain": [
       "<Figure size 1152x720 with 2 Axes>"
      ]
     },
     "metadata": {
      "needs_background": "light"
     },
     "output_type": "display_data"
    }
   ],
   "source": [
    "import matplotlib.pyplot as plt\n",
    "\n",
    "fig, loss_ax = plt.subplots(figsize=(16, 10))\n",
    "acc_ax = loss_ax.twinx()\n",
    "\n",
    "loss_ax.set_xlabel('epoch')\n",
    "loss_ax.set_ylabel('loss')\n",
    "\n",
    "acc_ax.plot(history.history['metric_F1score'], 'b', label='train f1')\n",
    "acc_ax.plot(history.history['val_metric_F1score'], 'g', label='val f1')\n",
    "acc_ax.set_ylabel('f1-score')\n",
    "acc_ax.legend(loc='upper left')\n",
    "\n",
    "plt.show()"
   ]
  },
  {
   "cell_type": "markdown",
   "metadata": {
    "id": "6KI1GHvY2kCJ"
   },
   "source": [
    "####  Results Analysis"
   ]
  },
  {
   "cell_type": "code",
   "execution_count": 12,
   "metadata": {},
   "outputs": [
    {
     "name": "stdout",
     "output_type": "stream",
     "text": [
      "WARNING:tensorflow:Layer lstm will not use cuDNN kernels since it doesn't meet the criteria. It will use a generic GPU kernel as fallback when running on GPU.\n"
     ]
    }
   ],
   "source": [
    "from sklearn.metrics import multilabel_confusion_matrix\n",
    "from tensorflow.keras.models import load_model\n",
    "\n",
    "model = load_model('models/vector_normalization_classifier.h5', custom_objects = {'metric_F1score':metric_F1score})"
   ]
  },
  {
   "cell_type": "code",
   "execution_count": 13,
   "metadata": {
    "id": "6SnjKeNw2kCL",
    "outputId": "f63b7009-913c-406c-e523-08c88c231f58"
   },
   "outputs": [
    {
     "data": {
      "text/plain": [
       "array([[[703,  14],\n",
       "        [ 46, 147]],\n",
       "\n",
       "       [[705,  17],\n",
       "        [ 51, 137]],\n",
       "\n",
       "       [[592,  60],\n",
       "        [ 20, 238]],\n",
       "\n",
       "       [[588,  51],\n",
       "        [ 25, 246]]], dtype=int64)"
      ]
     },
     "execution_count": 13,
     "metadata": {},
     "output_type": "execute_result"
    }
   ],
   "source": [
    "from sklearn.metrics import multilabel_confusion_matrix\n",
    "from tensorflow.keras.models import load_model\n",
    "\n",
    "y_pred = model.predict(x_val)\n",
    "multilabel_confusion_matrix(np.argmax(y_val, axis=1), np.argmax(y_pred, axis=1))"
   ]
  },
  {
   "cell_type": "code",
   "execution_count": 14,
   "metadata": {},
   "outputs": [
    {
     "name": "stdout",
     "output_type": "stream",
     "text": [
      "              precision    recall  f1-score   support\n",
      "\n",
      "           0       0.91      0.76      0.83       193\n",
      "           1       0.89      0.73      0.80       188\n",
      "           2       0.80      0.92      0.86       258\n",
      "           3       0.83      0.91      0.87       271\n",
      "\n",
      "    accuracy                           0.84       910\n",
      "   macro avg       0.86      0.83      0.84       910\n",
      "weighted avg       0.85      0.84      0.84       910\n",
      "\n"
     ]
    }
   ],
   "source": [
    "from sklearn.metrics import classification_report\n",
    "\n",
    "print(classification_report(np.argmax(y_val, axis=1), np.argmax(y_pred, axis=1)))"
   ]
  },
  {
   "cell_type": "markdown",
   "metadata": {},
   "source": [
    "---"
   ]
  },
  {
   "cell_type": "markdown",
   "metadata": {},
   "source": [
    "test data로 모델 예측"
   ]
  },
  {
   "cell_type": "code",
   "execution_count": 15,
   "metadata": {
    "scrolled": true
   },
   "outputs": [
    {
     "data": {
      "text/plain": [
       "array([[9.6678413e-02, 8.4249437e-02, 1.6021604e-02, 8.0305058e-01],\n",
       "       [4.1810136e-02, 3.1565867e-02, 5.9916116e-03, 9.2063236e-01],\n",
       "       [2.6559686e-02, 4.9321852e-03, 7.3336856e-04, 9.6777481e-01],\n",
       "       ...,\n",
       "       [2.2740485e-11, 3.2241365e-12, 9.9703252e-01, 2.9675148e-03],\n",
       "       [2.3038800e-10, 1.5812891e-10, 9.8987329e-01, 1.0126760e-02],\n",
       "       [1.4360139e-09, 2.6245001e-10, 9.8822355e-01, 1.1776412e-02]],\n",
       "      dtype=float32)"
      ]
     },
     "execution_count": 15,
     "metadata": {},
     "output_type": "execute_result"
    }
   ],
   "source": [
    "pred = model.predict(x_data_te);pred"
   ]
  },
  {
   "cell_type": "code",
   "execution_count": 16,
   "metadata": {},
   "outputs": [
    {
     "data": {
      "text/plain": [
       "array([[1., 0., 0., 0.],\n",
       "       [1., 0., 0., 0.],\n",
       "       [1., 0., 0., 0.],\n",
       "       ...,\n",
       "       [0., 0., 0., 1.],\n",
       "       [0., 0., 0., 1.],\n",
       "       [0., 0., 0., 1.]], dtype=float32)"
      ]
     },
     "execution_count": 16,
     "metadata": {},
     "output_type": "execute_result"
    }
   ],
   "source": [
    "y_data_te"
   ]
  },
  {
   "cell_type": "code",
   "execution_count": 17,
   "metadata": {},
   "outputs": [
    {
     "data": {
      "text/plain": [
       "array([[[2869,   43],\n",
       "        [ 417,  604]],\n",
       "\n",
       "       [[3153,   87],\n",
       "        [ 106,  587]],\n",
       "\n",
       "       [[2472,  368],\n",
       "        [ 146,  947]],\n",
       "\n",
       "       [[2443,  364],\n",
       "        [ 193,  933]]], dtype=int64)"
      ]
     },
     "execution_count": 17,
     "metadata": {},
     "output_type": "execute_result"
    }
   ],
   "source": [
    "from sklearn.metrics import multilabel_confusion_matrix\n",
    "\n",
    "multilabel_confusion_matrix(np.argmax(y_data_te, axis=1), np.argmax(pred, axis=1))"
   ]
  },
  {
   "cell_type": "code",
   "execution_count": 18,
   "metadata": {},
   "outputs": [
    {
     "name": "stdout",
     "output_type": "stream",
     "text": [
      "              precision    recall  f1-score   support\n",
      "\n",
      "           0       0.93      0.59      0.72      1021\n",
      "           1       0.87      0.85      0.86       693\n",
      "           2       0.72      0.87      0.79      1093\n",
      "           3       0.72      0.83      0.77      1126\n",
      "\n",
      "    accuracy                           0.78      3933\n",
      "   macro avg       0.81      0.78      0.78      3933\n",
      "weighted avg       0.80      0.78      0.78      3933\n",
      "\n"
     ]
    }
   ],
   "source": [
    "print(classification_report(np.argmax(y_data_te, axis=1), np.argmax(pred, axis=1)))"
   ]
  },
  {
   "cell_type": "code",
   "execution_count": 19,
   "metadata": {},
   "outputs": [
    {
     "data": {
      "text/plain": [
       "<tf.Tensor: shape=(), dtype=float32, numpy=0.7763983>"
      ]
     },
     "execution_count": 19,
     "metadata": {},
     "output_type": "execute_result"
    }
   ],
   "source": [
    "metric_F1score(y_data_te, pred)"
   ]
  },
  {
   "cell_type": "code",
   "execution_count": 44,
   "metadata": {
    "collapsed": true
   },
   "outputs": [
    {
     "name": "stdout",
     "output_type": "stream",
     "text": [
      "INFO:tensorflow:Assets written to: C:\\Users\\hites\\AppData\\Local\\Temp\\tmphc55gmre\\assets\n"
     ]
    },
    {
     "name": "stderr",
     "output_type": "stream",
     "text": [
      "INFO:tensorflow:Assets written to: C:\\Users\\hites\\AppData\\Local\\Temp\\tmphc55gmre\\assets\n"
     ]
    },
    {
     "ename": "ConverterError",
     "evalue": "C:\\Users\\hites\\anaconda3\\lib\\site-packages\\tensorflow\\python\\saved_model\\save.py:1315:0: error: 'tf.TensorListReserve' op requires element_shape to be static during TF Lite transformation pass\n<unknown>:0: note: loc(\"StatefulPartitionedCall\"): called from\nC:\\Users\\hites\\anaconda3\\lib\\site-packages\\tensorflow\\python\\saved_model\\save.py:1315:0: error: failed to legalize operation 'tf.TensorListReserve' that was explicitly marked illegal\n<unknown>:0: note: loc(\"StatefulPartitionedCall\"): called from\n<unknown>:0: error: Lowering tensor list ops is failed. Please consider using Select TF ops and disabling `_experimental_lower_tensor_list_ops` flag in the TFLite converter object. For example, converter.target_spec.supported_ops = [tf.lite.OpsSet.TFLITE_BUILTINS, tf.lite.OpsSet.SELECT_TF_OPS]\\n converter._experimental_lower_tensor_list_ops = False\n",
     "output_type": "error",
     "traceback": [
      "\u001b[1;31m---------------------------------------------------------------------------\u001b[0m",
      "\u001b[1;31mConverterError\u001b[0m                            Traceback (most recent call last)",
      "\u001b[1;32m<ipython-input-44-47361ccaf0d3>\u001b[0m in \u001b[0;36m<module>\u001b[1;34m\u001b[0m\n\u001b[0;32m      2\u001b[0m \u001b[1;31m# Convert the model.\u001b[0m\u001b[1;33m\u001b[0m\u001b[1;33m\u001b[0m\u001b[1;33m\u001b[0m\u001b[0m\n\u001b[0;32m      3\u001b[0m \u001b[0mconverter\u001b[0m \u001b[1;33m=\u001b[0m \u001b[0mtf\u001b[0m\u001b[1;33m.\u001b[0m\u001b[0mlite\u001b[0m\u001b[1;33m.\u001b[0m\u001b[0mTFLiteConverter\u001b[0m\u001b[1;33m.\u001b[0m\u001b[0mfrom_keras_model\u001b[0m\u001b[1;33m(\u001b[0m\u001b[0mmodel\u001b[0m\u001b[1;33m)\u001b[0m\u001b[1;33m\u001b[0m\u001b[1;33m\u001b[0m\u001b[0m\n\u001b[1;32m----> 4\u001b[1;33m \u001b[0mtflite_model\u001b[0m \u001b[1;33m=\u001b[0m \u001b[0mconverter\u001b[0m\u001b[1;33m.\u001b[0m\u001b[0mconvert\u001b[0m\u001b[1;33m(\u001b[0m\u001b[1;33m)\u001b[0m\u001b[1;33m\u001b[0m\u001b[1;33m\u001b[0m\u001b[0m\n\u001b[0m\u001b[0;32m      5\u001b[0m \u001b[1;33m\u001b[0m\u001b[0m\n\u001b[0;32m      6\u001b[0m \u001b[1;31m# Save the model.\u001b[0m\u001b[1;33m\u001b[0m\u001b[1;33m\u001b[0m\u001b[1;33m\u001b[0m\u001b[0m\n",
      "\u001b[1;32m~\\anaconda3\\lib\\site-packages\\tensorflow\\lite\\python\\lite.py\u001b[0m in \u001b[0;36mwrapper\u001b[1;34m(self, *args, **kwargs)\u001b[0m\n\u001b[0;32m    773\u001b[0m   \u001b[1;32mdef\u001b[0m \u001b[0mwrapper\u001b[0m\u001b[1;33m(\u001b[0m\u001b[0mself\u001b[0m\u001b[1;33m,\u001b[0m \u001b[1;33m*\u001b[0m\u001b[0margs\u001b[0m\u001b[1;33m,\u001b[0m \u001b[1;33m**\u001b[0m\u001b[0mkwargs\u001b[0m\u001b[1;33m)\u001b[0m\u001b[1;33m:\u001b[0m\u001b[1;33m\u001b[0m\u001b[1;33m\u001b[0m\u001b[0m\n\u001b[0;32m    774\u001b[0m     \u001b[1;31m# pylint: disable=protected-access\u001b[0m\u001b[1;33m\u001b[0m\u001b[1;33m\u001b[0m\u001b[1;33m\u001b[0m\u001b[0m\n\u001b[1;32m--> 775\u001b[1;33m     \u001b[1;32mreturn\u001b[0m \u001b[0mself\u001b[0m\u001b[1;33m.\u001b[0m\u001b[0m_convert_and_export_metrics\u001b[0m\u001b[1;33m(\u001b[0m\u001b[0mconvert_func\u001b[0m\u001b[1;33m,\u001b[0m \u001b[1;33m*\u001b[0m\u001b[0margs\u001b[0m\u001b[1;33m,\u001b[0m \u001b[1;33m**\u001b[0m\u001b[0mkwargs\u001b[0m\u001b[1;33m)\u001b[0m\u001b[1;33m\u001b[0m\u001b[1;33m\u001b[0m\u001b[0m\n\u001b[0m\u001b[0;32m    776\u001b[0m     \u001b[1;31m# pylint: enable=protected-access\u001b[0m\u001b[1;33m\u001b[0m\u001b[1;33m\u001b[0m\u001b[1;33m\u001b[0m\u001b[0m\n\u001b[0;32m    777\u001b[0m \u001b[1;33m\u001b[0m\u001b[0m\n",
      "\u001b[1;32m~\\anaconda3\\lib\\site-packages\\tensorflow\\lite\\python\\lite.py\u001b[0m in \u001b[0;36m_convert_and_export_metrics\u001b[1;34m(self, convert_func, *args, **kwargs)\u001b[0m\n\u001b[0;32m    759\u001b[0m     \u001b[0mself\u001b[0m\u001b[1;33m.\u001b[0m\u001b[0m_save_conversion_params_metric\u001b[0m\u001b[1;33m(\u001b[0m\u001b[1;33m)\u001b[0m\u001b[1;33m\u001b[0m\u001b[1;33m\u001b[0m\u001b[0m\n\u001b[0;32m    760\u001b[0m     \u001b[0mstart_time\u001b[0m \u001b[1;33m=\u001b[0m \u001b[0mtime\u001b[0m\u001b[1;33m.\u001b[0m\u001b[0mprocess_time\u001b[0m\u001b[1;33m(\u001b[0m\u001b[1;33m)\u001b[0m\u001b[1;33m\u001b[0m\u001b[1;33m\u001b[0m\u001b[0m\n\u001b[1;32m--> 761\u001b[1;33m     \u001b[0mresult\u001b[0m \u001b[1;33m=\u001b[0m \u001b[0mconvert_func\u001b[0m\u001b[1;33m(\u001b[0m\u001b[0mself\u001b[0m\u001b[1;33m,\u001b[0m \u001b[1;33m*\u001b[0m\u001b[0margs\u001b[0m\u001b[1;33m,\u001b[0m \u001b[1;33m**\u001b[0m\u001b[0mkwargs\u001b[0m\u001b[1;33m)\u001b[0m\u001b[1;33m\u001b[0m\u001b[1;33m\u001b[0m\u001b[0m\n\u001b[0m\u001b[0;32m    762\u001b[0m     \u001b[0melapsed_time_ms\u001b[0m \u001b[1;33m=\u001b[0m \u001b[1;33m(\u001b[0m\u001b[0mtime\u001b[0m\u001b[1;33m.\u001b[0m\u001b[0mprocess_time\u001b[0m\u001b[1;33m(\u001b[0m\u001b[1;33m)\u001b[0m \u001b[1;33m-\u001b[0m \u001b[0mstart_time\u001b[0m\u001b[1;33m)\u001b[0m \u001b[1;33m*\u001b[0m \u001b[1;36m1000\u001b[0m\u001b[1;33m\u001b[0m\u001b[1;33m\u001b[0m\u001b[0m\n\u001b[0;32m    763\u001b[0m     \u001b[1;32mif\u001b[0m \u001b[0mresult\u001b[0m\u001b[1;33m:\u001b[0m\u001b[1;33m\u001b[0m\u001b[1;33m\u001b[0m\u001b[0m\n",
      "\u001b[1;32m~\\anaconda3\\lib\\site-packages\\tensorflow\\lite\\python\\lite.py\u001b[0m in \u001b[0;36mconvert\u001b[1;34m(self)\u001b[0m\n\u001b[0;32m   1168\u001b[0m         \u001b[0mInvalid\u001b[0m \u001b[0mquantization\u001b[0m \u001b[0mparameters\u001b[0m\u001b[1;33m.\u001b[0m\u001b[1;33m\u001b[0m\u001b[1;33m\u001b[0m\u001b[0m\n\u001b[0;32m   1169\u001b[0m     \"\"\"\n\u001b[1;32m-> 1170\u001b[1;33m     \u001b[0msaved_model_convert_result\u001b[0m \u001b[1;33m=\u001b[0m \u001b[0mself\u001b[0m\u001b[1;33m.\u001b[0m\u001b[0m_convert_as_saved_model\u001b[0m\u001b[1;33m(\u001b[0m\u001b[1;33m)\u001b[0m\u001b[1;33m\u001b[0m\u001b[1;33m\u001b[0m\u001b[0m\n\u001b[0m\u001b[0;32m   1171\u001b[0m     \u001b[1;32mif\u001b[0m \u001b[0msaved_model_convert_result\u001b[0m\u001b[1;33m:\u001b[0m\u001b[1;33m\u001b[0m\u001b[1;33m\u001b[0m\u001b[0m\n\u001b[0;32m   1172\u001b[0m       \u001b[1;32mreturn\u001b[0m \u001b[0msaved_model_convert_result\u001b[0m\u001b[1;33m\u001b[0m\u001b[1;33m\u001b[0m\u001b[0m\n",
      "\u001b[1;32m~\\anaconda3\\lib\\site-packages\\tensorflow\\lite\\python\\lite.py\u001b[0m in \u001b[0;36m_convert_as_saved_model\u001b[1;34m(self)\u001b[0m\n\u001b[0;32m   1151\u001b[0m       \u001b[1;32mif\u001b[0m \u001b[0mself\u001b[0m\u001b[1;33m.\u001b[0m\u001b[0msaved_model_dir\u001b[0m\u001b[1;33m:\u001b[0m\u001b[1;33m\u001b[0m\u001b[1;33m\u001b[0m\u001b[0m\n\u001b[0;32m   1152\u001b[0m         return super(TFLiteKerasModelConverterV2,\n\u001b[1;32m-> 1153\u001b[1;33m                      self).convert(graph_def, input_tensors, output_tensors)\n\u001b[0m\u001b[0;32m   1154\u001b[0m     \u001b[1;32mfinally\u001b[0m\u001b[1;33m:\u001b[0m\u001b[1;33m\u001b[0m\u001b[1;33m\u001b[0m\u001b[0m\n\u001b[0;32m   1155\u001b[0m       \u001b[0mshutil\u001b[0m\u001b[1;33m.\u001b[0m\u001b[0mrmtree\u001b[0m\u001b[1;33m(\u001b[0m\u001b[0mtemp_dir\u001b[0m\u001b[1;33m,\u001b[0m \u001b[1;32mTrue\u001b[0m\u001b[1;33m)\u001b[0m\u001b[1;33m\u001b[0m\u001b[1;33m\u001b[0m\u001b[0m\n",
      "\u001b[1;32m~\\anaconda3\\lib\\site-packages\\tensorflow\\lite\\python\\lite.py\u001b[0m in \u001b[0;36mconvert\u001b[1;34m(self, graph_def, input_tensors, output_tensors)\u001b[0m\n\u001b[0;32m    947\u001b[0m         \u001b[0minput_tensors\u001b[0m\u001b[1;33m=\u001b[0m\u001b[0minput_tensors\u001b[0m\u001b[1;33m,\u001b[0m\u001b[1;33m\u001b[0m\u001b[1;33m\u001b[0m\u001b[0m\n\u001b[0;32m    948\u001b[0m         \u001b[0moutput_tensors\u001b[0m\u001b[1;33m=\u001b[0m\u001b[0moutput_tensors\u001b[0m\u001b[1;33m,\u001b[0m\u001b[1;33m\u001b[0m\u001b[1;33m\u001b[0m\u001b[0m\n\u001b[1;32m--> 949\u001b[1;33m         **converter_kwargs)\n\u001b[0m\u001b[0;32m    950\u001b[0m \u001b[1;33m\u001b[0m\u001b[0m\n\u001b[0;32m    951\u001b[0m     return self._optimize_tflite_model(\n",
      "\u001b[1;32m~\\anaconda3\\lib\\site-packages\\tensorflow\\lite\\python\\convert_phase.py\u001b[0m in \u001b[0;36mwrapper\u001b[1;34m(*args, **kwargs)\u001b[0m\n\u001b[0;32m    221\u001b[0m         \u001b[1;32melse\u001b[0m\u001b[1;33m:\u001b[0m\u001b[1;33m\u001b[0m\u001b[1;33m\u001b[0m\u001b[0m\n\u001b[0;32m    222\u001b[0m           \u001b[0mreport_error_message\u001b[0m\u001b[1;33m(\u001b[0m\u001b[0mstr\u001b[0m\u001b[1;33m(\u001b[0m\u001b[0mconverter_error\u001b[0m\u001b[1;33m)\u001b[0m\u001b[1;33m)\u001b[0m\u001b[1;33m\u001b[0m\u001b[1;33m\u001b[0m\u001b[0m\n\u001b[1;32m--> 223\u001b[1;33m         \u001b[1;32mraise\u001b[0m \u001b[0mconverter_error\u001b[0m \u001b[1;32mfrom\u001b[0m \u001b[1;32mNone\u001b[0m  \u001b[1;31m# Re-throws the exception.\u001b[0m\u001b[1;33m\u001b[0m\u001b[1;33m\u001b[0m\u001b[0m\n\u001b[0m\u001b[0;32m    224\u001b[0m       \u001b[1;32mexcept\u001b[0m \u001b[0mException\u001b[0m \u001b[1;32mas\u001b[0m \u001b[0merror\u001b[0m\u001b[1;33m:\u001b[0m\u001b[1;33m\u001b[0m\u001b[1;33m\u001b[0m\u001b[0m\n\u001b[0;32m    225\u001b[0m         \u001b[0mreport_error_message\u001b[0m\u001b[1;33m(\u001b[0m\u001b[0mstr\u001b[0m\u001b[1;33m(\u001b[0m\u001b[0merror\u001b[0m\u001b[1;33m)\u001b[0m\u001b[1;33m)\u001b[0m\u001b[1;33m\u001b[0m\u001b[1;33m\u001b[0m\u001b[0m\n",
      "\u001b[1;32m~\\anaconda3\\lib\\site-packages\\tensorflow\\lite\\python\\convert_phase.py\u001b[0m in \u001b[0;36mwrapper\u001b[1;34m(*args, **kwargs)\u001b[0m\n\u001b[0;32m    214\u001b[0m     \u001b[1;32mdef\u001b[0m \u001b[0mwrapper\u001b[0m\u001b[1;33m(\u001b[0m\u001b[1;33m*\u001b[0m\u001b[0margs\u001b[0m\u001b[1;33m,\u001b[0m \u001b[1;33m**\u001b[0m\u001b[0mkwargs\u001b[0m\u001b[1;33m)\u001b[0m\u001b[1;33m:\u001b[0m\u001b[1;33m\u001b[0m\u001b[1;33m\u001b[0m\u001b[0m\n\u001b[0;32m    215\u001b[0m       \u001b[1;32mtry\u001b[0m\u001b[1;33m:\u001b[0m\u001b[1;33m\u001b[0m\u001b[1;33m\u001b[0m\u001b[0m\n\u001b[1;32m--> 216\u001b[1;33m         \u001b[1;32mreturn\u001b[0m \u001b[0mfunc\u001b[0m\u001b[1;33m(\u001b[0m\u001b[1;33m*\u001b[0m\u001b[0margs\u001b[0m\u001b[1;33m,\u001b[0m \u001b[1;33m**\u001b[0m\u001b[0mkwargs\u001b[0m\u001b[1;33m)\u001b[0m\u001b[1;33m\u001b[0m\u001b[1;33m\u001b[0m\u001b[0m\n\u001b[0m\u001b[0;32m    217\u001b[0m       \u001b[1;32mexcept\u001b[0m \u001b[0mConverterError\u001b[0m \u001b[1;32mas\u001b[0m \u001b[0mconverter_error\u001b[0m\u001b[1;33m:\u001b[0m\u001b[1;33m\u001b[0m\u001b[1;33m\u001b[0m\u001b[0m\n\u001b[0;32m    218\u001b[0m         \u001b[1;32mif\u001b[0m \u001b[0mconverter_error\u001b[0m\u001b[1;33m.\u001b[0m\u001b[0merrors\u001b[0m\u001b[1;33m:\u001b[0m\u001b[1;33m\u001b[0m\u001b[1;33m\u001b[0m\u001b[0m\n",
      "\u001b[1;32m~\\anaconda3\\lib\\site-packages\\tensorflow\\lite\\python\\convert.py\u001b[0m in \u001b[0;36mtoco_convert_impl\u001b[1;34m(input_data, input_tensors, output_tensors, enable_mlir_converter, *args, **kwargs)\u001b[0m\n\u001b[0;32m    824\u001b[0m       \u001b[0minput_data\u001b[0m\u001b[1;33m.\u001b[0m\u001b[0mSerializeToString\u001b[0m\u001b[1;33m(\u001b[0m\u001b[1;33m)\u001b[0m\u001b[1;33m,\u001b[0m\u001b[1;33m\u001b[0m\u001b[1;33m\u001b[0m\u001b[0m\n\u001b[0;32m    825\u001b[0m       \u001b[0mdebug_info_str\u001b[0m\u001b[1;33m=\u001b[0m\u001b[0mdebug_info_str\u001b[0m\u001b[1;33m,\u001b[0m\u001b[1;33m\u001b[0m\u001b[1;33m\u001b[0m\u001b[0m\n\u001b[1;32m--> 826\u001b[1;33m       enable_mlir_converter=enable_mlir_converter)\n\u001b[0m\u001b[0;32m    827\u001b[0m   \u001b[1;32mreturn\u001b[0m \u001b[0mdata\u001b[0m\u001b[1;33m\u001b[0m\u001b[1;33m\u001b[0m\u001b[0m\n\u001b[0;32m    828\u001b[0m \u001b[1;33m\u001b[0m\u001b[0m\n",
      "\u001b[1;32m~\\anaconda3\\lib\\site-packages\\tensorflow\\lite\\python\\convert.py\u001b[0m in \u001b[0;36mtoco_convert_protos\u001b[1;34m(model_flags_str, toco_flags_str, input_data_str, debug_info_str, enable_mlir_converter)\u001b[0m\n\u001b[0;32m    313\u001b[0m       \u001b[1;32mfor\u001b[0m \u001b[0merror_data\u001b[0m \u001b[1;32min\u001b[0m \u001b[0m_metrics_wrapper\u001b[0m\u001b[1;33m.\u001b[0m\u001b[0mretrieve_collected_errors\u001b[0m\u001b[1;33m(\u001b[0m\u001b[1;33m)\u001b[0m\u001b[1;33m:\u001b[0m\u001b[1;33m\u001b[0m\u001b[1;33m\u001b[0m\u001b[0m\n\u001b[0;32m    314\u001b[0m         \u001b[0mconverter_error\u001b[0m\u001b[1;33m.\u001b[0m\u001b[0mappend_error\u001b[0m\u001b[1;33m(\u001b[0m\u001b[0merror_data\u001b[0m\u001b[1;33m)\u001b[0m\u001b[1;33m\u001b[0m\u001b[1;33m\u001b[0m\u001b[0m\n\u001b[1;32m--> 315\u001b[1;33m       \u001b[1;32mraise\u001b[0m \u001b[0mconverter_error\u001b[0m\u001b[1;33m\u001b[0m\u001b[1;33m\u001b[0m\u001b[0m\n\u001b[0m\u001b[0;32m    316\u001b[0m \u001b[1;33m\u001b[0m\u001b[0m\n\u001b[0;32m    317\u001b[0m   return _run_toco_binary(model_flags_str, toco_flags_str, input_data_str,\n",
      "\u001b[1;31mConverterError\u001b[0m: C:\\Users\\hites\\anaconda3\\lib\\site-packages\\tensorflow\\python\\saved_model\\save.py:1315:0: error: 'tf.TensorListReserve' op requires element_shape to be static during TF Lite transformation pass\n<unknown>:0: note: loc(\"StatefulPartitionedCall\"): called from\nC:\\Users\\hites\\anaconda3\\lib\\site-packages\\tensorflow\\python\\saved_model\\save.py:1315:0: error: failed to legalize operation 'tf.TensorListReserve' that was explicitly marked illegal\n<unknown>:0: note: loc(\"StatefulPartitionedCall\"): called from\n<unknown>:0: error: Lowering tensor list ops is failed. Please consider using Select TF ops and disabling `_experimental_lower_tensor_list_ops` flag in the TFLite converter object. For example, converter.target_spec.supported_ops = [tf.lite.OpsSet.TFLITE_BUILTINS, tf.lite.OpsSet.SELECT_TF_OPS]\\n converter._experimental_lower_tensor_list_ops = False\n"
     ]
    }
   ],
   "source": [
    "import tensorflow as tf\n",
    "# Convert the model.\n",
    "converter = tf.lite.TFLiteConverter.from_keras_model(model)\n",
    "tflite_model = converter.convert()\n",
    "\n",
    "# Save the model.\n",
    "with open('models/vector_normalization_classifier.tflite', 'wb') as f:\n",
    "    f.write(tflite_model)"
   ]
  },
  {
   "cell_type": "code",
   "execution_count": null,
   "metadata": {},
   "outputs": [],
   "source": []
  }
 ],
 "metadata": {
  "colab": {
   "collapsed_sections": [
    "NovsrRN12kCW",
    "nsZLMbtO2kCY"
   ],
   "name": "train_multi_hand_gesture3.ipynb",
   "provenance": []
  },
  "interpreter": {
   "hash": "eb8d34d53d16442ab45ee5ae0fcb3a4f0af0f2ef684aa754f8ae5e8bd03f8c50"
  },
  "kernelspec": {
   "display_name": "Python 3",
   "language": "python",
   "name": "python3"
  },
  "language_info": {
   "codemirror_mode": {
    "name": "ipython",
    "version": 3
   },
   "file_extension": ".py",
   "mimetype": "text/x-python",
   "name": "python",
   "nbconvert_exporter": "python",
   "pygments_lexer": "ipython3",
   "version": "3.7.13"
  }
 },
 "nbformat": 4,
 "nbformat_minor": 1
}
